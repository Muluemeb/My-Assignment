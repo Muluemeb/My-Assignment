{
  "nbformat": 4,
  "nbformat_minor": 0,
  "metadata": {
    "colab": {
      "name": "Untitled39.ipynb",
      "provenance": [],
      "authorship_tag": "ABX9TyP+gt4v5Y3TaTlUgrOqgnjs",
      "include_colab_link": true
    },
    "kernelspec": {
      "name": "python3",
      "display_name": "Python 3"
    },
    "language_info": {
      "name": "python"
    }
  },
  "cells": [
    {
      "cell_type": "markdown",
      "metadata": {
        "id": "view-in-github",
        "colab_type": "text"
      },
      "source": [
        "<a href=\"https://colab.research.google.com/github/Muluemeb/My-Assignment/blob/main/Untitled39.ipynb\" target=\"_parent\"><img src=\"https://colab.research.google.com/assets/colab-badge.svg\" alt=\"Open In Colab\"/></a>"
      ]
    },
    {
      "cell_type": "code",
      "execution_count": 4,
      "metadata": {
        "id": "aEb5mgXAVMZG"
      },
      "outputs": [],
      "source": [
        "import pandas as pd\n",
        "import numpy as np\n",
        "import matplotlib.pyplot as plt\n",
        "import seaborn as sns\n"
      ]
    },
    {
      "cell_type": "code",
      "source": [
        "df=pd.read_csv(\"/content/austin_weather.csv\")"
      ],
      "metadata": {
        "id": "j1n1Sl5fX0ZR"
      },
      "execution_count": 5,
      "outputs": []
    },
    {
      "cell_type": "code",
      "source": [
        "df.describe"
      ],
      "metadata": {
        "colab": {
          "base_uri": "https://localhost:8080/"
        },
        "id": "KpuH3pnCYXCu",
        "outputId": "fd21a32b-4c40-43c6-ac54-bdc7422a5cb2"
      },
      "execution_count": 6,
      "outputs": [
        {
          "output_type": "execute_result",
          "data": {
            "text/plain": [
              "<bound method NDFrame.describe of             Date  TempHighF  ...  PrecipitationSumInches               Events\n",
              "0     2013-12-21         74  ...                    0.46  Rain , Thunderstorm\n",
              "1     2013-12-22         56  ...                       0                     \n",
              "2     2013-12-23         58  ...                       0                     \n",
              "3     2013-12-24         61  ...                       0                     \n",
              "4     2013-12-25         58  ...                       T                     \n",
              "...          ...        ...  ...                     ...                  ...\n",
              "1314  2017-07-27        103  ...                       0                     \n",
              "1315  2017-07-28        105  ...                       0                     \n",
              "1316  2017-07-29        107  ...                       0                     \n",
              "1317  2017-07-30        106  ...                       0                     \n",
              "1318  2017-07-31         99  ...                       0                     \n",
              "\n",
              "[1319 rows x 21 columns]>"
            ]
          },
          "metadata": {},
          "execution_count": 6
        }
      ]
    },
    {
      "cell_type": "code",
      "source": [
        "df.shape"
      ],
      "metadata": {
        "colab": {
          "base_uri": "https://localhost:8080/"
        },
        "id": "tNRooc_aYfwH",
        "outputId": "83299045-c20a-4126-aaa7-e792589e8f52"
      },
      "execution_count": 9,
      "outputs": [
        {
          "output_type": "execute_result",
          "data": {
            "text/plain": [
              "(1319, 21)"
            ]
          },
          "metadata": {},
          "execution_count": 9
        }
      ]
    },
    {
      "cell_type": "code",
      "source": [
        "df = pd.read_csv(\"/content/austin_weather.csv\")\n",
        "df.set_index('Date').sort_index()\n",
        "\n",
        "# use average data only\n",
        "columns_of_interest = ['TempAvgF','DewPointAvgF', 'HumidityAvgPercent', 'SeaLevelPressureAvgInches', 'VisibilityAvgMiles', 'WindAvgMPH', 'PrecipitationSumInches']\n",
        "data = df[columns_of_interest]\n",
        "events = df[['Events']].replace(' ', 'None')"
      ],
      "metadata": {
        "id": "-5TmRfVGYp7V"
      },
      "execution_count": 10,
      "outputs": []
    },
    {
      "cell_type": "markdown",
      "source": [
        "Data exploration\n",
        "Let's see what lies in column that will become our prediction / source of truth for training:"
      ],
      "metadata": {
        "id": "KtUPcG_bmsV8"
      }
    },
    {
      "cell_type": "code",
      "source": [
        "events.Events.value_counts().plot(kind='bar', figsize=(10,5))"
      ],
      "metadata": {
        "colab": {
          "base_uri": "https://localhost:8080/",
          "height": 456
        },
        "id": "zY3AtamWmudF",
        "outputId": "198ff34f-bf6c-407f-cfc2-1fcfefcde004"
      },
      "execution_count": 12,
      "outputs": [
        {
          "output_type": "execute_result",
          "data": {
            "text/plain": [
              "<matplotlib.axes._subplots.AxesSubplot at 0x7fead8c3a590>"
            ]
          },
          "metadata": {},
          "execution_count": 12
        },
        {
          "output_type": "display_data",
          "data": {
            "image/png": "[encoded data removed]",
            "text/plain": [
              "<Figure size 720x360 with 1 Axes>"
            ]
          },
          "metadata": {
            "needs_background": "light"
          }
        }
      ]
    },
    {
      "cell_type": "markdown",
      "source": [
        "We have information what events occurred for given weather parameters.\n",
        "\n",
        "We can see that single column combines multiple events.\n",
        "\n",
        "Separating them seems to be a good idea as it will allow us to predict all of the events combinations independently.\n",
        "\n",
        "Let's see what unique categories do we have in Events column:"
      ],
      "metadata": {
        "id": "Yj7f4viXnR2M"
      }
    },
    {
      "cell_type": "code",
      "source": [
        "unique_events = set()\n",
        "for value in events.Events.value_counts().index:\n",
        "    splitted = [x.strip() for x in value.split(',')]\n",
        "    unique_events.update(splitted)\n",
        "unique_events"
      ],
      "metadata": {
        "colab": {
          "base_uri": "https://localhost:8080/"
        },
        "id": "szYBenJBnhNj",
        "outputId": "dcb1430b-275f-4569-d031-94eb22328d3c"
      },
      "execution_count": 13,
      "outputs": [
        {
          "output_type": "execute_result",
          "data": {
            "text/plain": [
              "{'Fog', 'None', 'Rain', 'Snow', 'Thunderstorm'}"
            ]
          },
          "metadata": {},
          "execution_count": 13
        }
      ]
    },
    {
      "cell_type": "markdown",
      "source": [
        "Now we can try to generate histogram of independent event.\n",
        "\n",
        "We will see that \"Snow\" occurred only once."
      ],
      "metadata": {
        "id": "pB_ZuWOonuk_"
      }
    },
    {
      "cell_type": "code",
      "source": [
        "single_events = pd.DataFrame()\n",
        "for event_type in unique_events:\n",
        "    event_occurred = events.Events.str.contains(event_type)\n",
        "    single_events = pd.concat([single_events, pd.DataFrame(data={event_type: event_occurred.values})], join='outer', axis=1)\n",
        "\n",
        "#single_events.head()\n",
        "ax = single_events.sum().sort_values(ascending=False).plot.bar(figsize=(10,5))\n",
        "ax.set_title(\"Weather events in dataset\", fontsize=18)\n",
        "ax.set_ylabel(\"Number of occurrences\", fontsize=14)\n",
        "for i in ax.patches:\n",
        "    ax.text(i.get_x()+.18, i.get_height()+5, i.get_height(), fontsize=12)"
      ],
      "metadata": {
        "colab": {
          "base_uri": "https://localhost:8080/",
          "height": 400
        },
        "id": "5cTHVew-nwrc",
        "outputId": "ebe21bde-f2e0-4fb8-e09c-56df857b9fc2"
      },
      "execution_count": 14,
      "outputs": [
        {
          "output_type": "display_data",
          "data": {
            "image/png": "[encoded data removed]",
            "text/plain": [
              "<Figure size 720x360 with 1 Axes>"
            ]
          },
          "metadata": {
            "needs_background": "light"
          }
        }
      ]
    },
    {
      "cell_type": "markdown",
      "source": [
        "At this point we also have a nice table of predictions with events separated:"
      ],
      "metadata": {
        "id": "l6J1U2Xmo6K6"
      }
    },
    {
      "cell_type": "code",
      "source": [
        "single_events.head()"
      ],
      "metadata": {
        "colab": {
          "base_uri": "https://localhost:8080/",
          "height": 206
        },
        "id": "HUbuxEK8o7kh",
        "outputId": "3f515c87-7194-4401-ee40-b8fac101bb7f"
      },
      "execution_count": 15,
      "outputs": [
        {
          "output_type": "execute_result",
          "data": {
            "text/html": [
              "\n",
              "  <div id=\"df-978e162e-d3dd-4a66-85e2-304ee488b9e1\">\n",
              "    <div class=\"colab-df-container\">\n",
              "      <div>\n",
              "<style scoped>\n",
              "    .dataframe tbody tr th:only-of-type {\n",
              "        vertical-align: middle;\n",
              "    }\n",
              "\n",
              "    .dataframe tbody tr th {\n",
              "        vertical-align: top;\n",
              "    }\n",
              "\n",
              "    .dataframe thead th {\n",
              "        text-align: right;\n",
              "    }\n",
              "</style>\n",
              "<table border=\"1\" class=\"dataframe\">\n",
              "  <thead>\n",
              "    <tr style=\"text-align: right;\">\n",
              "      <th></th>\n",
              "      <th>None</th>\n",
              "      <th>Thunderstorm</th>\n",
              "      <th>Snow</th>\n",
              "      <th>Rain</th>\n",
              "      <th>Fog</th>\n",
              "    </tr>\n",
              "  </thead>\n",
              "  <tbody>\n",
              "    <tr>\n",
              "      <th>0</th>\n",
              "      <td>False</td>\n",
              "      <td>True</td>\n",
              "      <td>False</td>\n",
              "      <td>True</td>\n",
              "      <td>False</td>\n",
              "    </tr>\n",
              "    <tr>\n",
              "      <th>1</th>\n",
              "      <td>True</td>\n",
              "      <td>False</td>\n",
              "      <td>False</td>\n",
              "      <td>False</td>\n",
              "      <td>False</td>\n",
              "    </tr>\n",
              "    <tr>\n",
              "      <th>2</th>\n",
              "      <td>True</td>\n",
              "      <td>False</td>\n",
              "      <td>False</td>\n",
              "      <td>False</td>\n",
              "      <td>False</td>\n",
              "    </tr>\n",
              "    <tr>\n",
              "      <th>3</th>\n",
              "      <td>True</td>\n",
              "      <td>False</td>\n",
              "      <td>False</td>\n",
              "      <td>False</td>\n",
              "      <td>False</td>\n",
              "    </tr>\n",
              "    <tr>\n",
              "      <th>4</th>\n",
              "      <td>True</td>\n",
              "      <td>False</td>\n",
              "      <td>False</td>\n",
              "      <td>False</td>\n",
              "      <td>False</td>\n",
              "    </tr>\n",
              "  </tbody>\n",
              "</table>\n",
              "</div>\n",
              "      <button class=\"colab-df-convert\" onclick=\"convertToInteractive('df-978e162e-d3dd-4a66-85e2-304ee488b9e1')\"\n",
              "              title=\"Convert this dataframe to an interactive table.\"\n",
              "              style=\"display:none;\">\n",
              "        \n",
              "  <svg xmlns=\"http://www.w3.org/2000/svg\" height=\"24px\"viewBox=\"0 0 24 24\"\n",
              "       width=\"24px\">\n",
              "    <path d=\"M0 0h24v24H0V0z\" fill=\"none\"/>\n",
              "    <path d=\"M18.56 5.44l.94 2.06.94-2.06 2.06-.94-2.06-.94-.94-2.06-.94 2.06-2.06.94zm-11 1L8.5 8.5l.94-2.06 2.06-.94-2.06-.94L8.5 2.5l-.94 2.06-2.06.94zm10 10l.94 2.06.94-2.06 2.06-.94-2.06-.94-.94-2.06-.94 2.06-2.06.94z\"/><path d=\"M17.41 7.96l-1.37-1.37c-.4-.4-.92-.59-1.43-.59-.52 0-1.04.2-1.43.59L10.3 9.45l-7.72 7.72c-.78.78-.78 2.05 0 2.83L4 21.41c.39.39.9.59 1.41.59.51 0 1.02-.2 1.41-.59l7.78-7.78 2.81-2.81c.8-.78.8-2.07 0-2.86zM5.41 20L4 18.59l7.72-7.72 1.47 1.35L5.41 20z\"/>\n",
              "  </svg>\n",
              "      </button>\n",
              "      \n",
              "  <style>\n",
              "    .colab-df-container {\n",
              "      display:flex;\n",
              "      flex-wrap:wrap;\n",
              "      gap: 12px;\n",
              "    }\n",
              "\n",
              "    .colab-df-convert {\n",
              "      background-color: #E8F0FE;\n",
              "      border: none;\n",
              "      border-radius: 50%;\n",
              "      cursor: pointer;\n",
              "      display: none;\n",
              "      fill: #1967D2;\n",
              "      height: 32px;\n",
              "      padding: 0 0 0 0;\n",
              "      width: 32px;\n",
              "    }\n",
              "\n",
              "    .colab-df-convert:hover {\n",
              "      background-color: #E2EBFA;\n",
              "      box-shadow: 0px 1px 2px rgba(60, 64, 67, 0.3), 0px 1px 3px 1px rgba(60, 64, 67, 0.15);\n",
              "      fill: #174EA6;\n",
              "    }\n",
              "\n",
              "    [theme=dark] .colab-df-convert {\n",
              "      background-color: #3B4455;\n",
              "      fill: #D2E3FC;\n",
              "    }\n",
              "\n",
              "    [theme=dark] .colab-df-convert:hover {\n",
              "      background-color: #434B5C;\n",
              "      box-shadow: 0px 1px 3px 1px rgba(0, 0, 0, 0.15);\n",
              "      filter: drop-shadow(0px 1px 2px rgba(0, 0, 0, 0.3));\n",
              "      fill: #FFFFFF;\n",
              "    }\n",
              "  </style>\n",
              "\n",
              "      <script>\n",
              "        const buttonEl =\n",
              "          document.querySelector('#df-978e162e-d3dd-4a66-85e2-304ee488b9e1 button.colab-df-convert');\n",
              "        buttonEl.style.display =\n",
              "          google.colab.kernel.accessAllowed ? 'block' : 'none';\n",
              "\n",
              "        async function convertToInteractive(key) {\n",
              "          const element = document.querySelector('#df-978e162e-d3dd-4a66-85e2-304ee488b9e1');\n",
              "          const dataTable =\n",
              "            await google.colab.kernel.invokeFunction('convertToInteractive',\n",
              "                                                     [key], {});\n",
              "          if (!dataTable) return;\n",
              "\n",
              "          const docLinkHtml = 'Like what you see? Visit the ' +\n",
              "            '<a target=\"_blank\" href=https://colab.research.google.com/notebooks/data_table.ipynb>data table notebook</a>'\n",
              "            + ' to learn more about interactive tables.';\n",
              "          element.innerHTML = '';\n",
              "          dataTable['output_type'] = 'display_data';\n",
              "          await google.colab.output.renderOutput(dataTable, element);\n",
              "          const docLink = document.createElement('div');\n",
              "          docLink.innerHTML = docLinkHtml;\n",
              "          element.appendChild(docLink);\n",
              "        }\n",
              "      </script>\n",
              "    </div>\n",
              "  </div>\n",
              "  "
            ],
            "text/plain": [
              "    None  Thunderstorm   Snow   Rain    Fog\n",
              "0  False          True  False   True  False\n",
              "1   True         False  False  False  False\n",
              "2   True         False  False  False  False\n",
              "3   True         False  False  False  False\n",
              "4   True         False  False  False  False"
            ]
          },
          "metadata": {},
          "execution_count": 15
        }
      ]
    },
    {
      "cell_type": "markdown",
      "source": [
        "During exploration I noticed that PrecipitationSumInches colum has mysterious \"T\" values which means \"Trace\". It means that there was a trace of rain but it was not measureable.\n",
        "\n",
        "Let's check if all other values in this column are numbers or do we have anything else there:"
      ],
      "metadata": {
        "id": "cW030NLMpPSS"
      }
    },
    {
      "cell_type": "markdown",
      "source": [
        "Check how many traces do we have in PrecipitationSumInches column"
      ],
      "metadata": {
        "id": "-uevrzRBpWli"
      }
    },
    {
      "cell_type": "code",
      "source": [
        "precipitation = data[pd.to_numeric(data.PrecipitationSumInches, errors='coerce').isnull()].PrecipitationSumInches.value_counts()\n",
        "precipitation"
      ],
      "metadata": {
        "colab": {
          "base_uri": "https://localhost:8080/"
        },
        "id": "HInLkb8zpBDZ",
        "outputId": "f26a6ed3-69bf-41b8-af6a-0c55d9feb550"
      },
      "execution_count": 16,
      "outputs": [
        {
          "output_type": "execute_result",
          "data": {
            "text/plain": [
              "T    124\n",
              "Name: PrecipitationSumInches, dtype: int64"
            ]
          },
          "metadata": {},
          "execution_count": 16
        }
      ]
    },
    {
      "cell_type": "markdown",
      "source": [
        "Let's check rest of the columns with non-numeric values:"
      ],
      "metadata": {
        "id": "ddHeBqOOpl2p"
      }
    },
    {
      "cell_type": "markdown",
      "source": [
        "Find all non numeric rows in data frame"
      ],
      "metadata": {
        "id": "PTkIfvZxpnXw"
      }
    },
    {
      "cell_type": "code",
      "source": [
        "# this function returns array with one item for each row\n",
        "# each item indicates if the row with columns of our interest had non-numeric data\n",
        "def isColumnNotNumeric(columns_of_interest, data):\n",
        "    result = np.zeros(data.shape[0], dtype=bool)\n",
        "    for column_name in columns_of_interest:\n",
        "        result = result | pd.to_numeric(data[column_name], errors='coerce').isnull()\n",
        "    return result\n",
        "\n",
        "def getDataFrameWithNonNumericRows(dataFrame):\n",
        "    return data[isColumnNotNumeric(columns_of_interest, data)]\n",
        "\n",
        "non_numeric_rows_count = getDataFrameWithNonNumericRows(data).shape[0]\n",
        "\n",
        "print(\"Non numeric rows: {0}\".format(non_numeric_rows_count))"
      ],
      "metadata": {
        "colab": {
          "base_uri": "https://localhost:8080/"
        },
        "id": "g_ID5QPNpre4",
        "outputId": "32153f70-c93a-4467-ce02-da53c35e45e5"
      },
      "execution_count": 17,
      "outputs": [
        {
          "output_type": "stream",
          "name": "stdout",
          "text": [
            "Non numeric rows: 134\n"
          ]
        }
      ]
    },
    {
      "cell_type": "markdown",
      "source": [
        "Data transformations"
      ],
      "metadata": {
        "id": "OMv0rGbLp6s5"
      }
    },
    {
      "cell_type": "markdown",
      "source": [
        "Replace \"Trace\" values in PrecipitationSumInches with 0 and add another column PercipitationTrace\n"
      ],
      "metadata": {
        "id": "ShOOh6Map8lB"
      }
    },
    {
      "cell_type": "markdown",
      "source": [
        "This new column will get values 0 if there was no trace of precipitation and 1 if there was a trace"
      ],
      "metadata": {
        "id": "ruKY03Q6qKIZ"
      }
    },
    {
      "cell_type": "code",
      "source": [
        "def numberOrZero(value):\n",
        "    try:\n",
        "        parsed = float(value)\n",
        "        return parsed\n",
        "    except:\n",
        "        return 0\n",
        "# this line is unnecessary if we run script from top to bottom, \n",
        "# but it helps debugging this part of code to get fresh PrecipitationSumInches column\n",
        "data['PrecipitationSumInches'] = df['PrecipitationSumInches']\n",
        "\n",
        "#Find rows indices with \"T\" values\n",
        "has_precipitation_trace_series = isColumnNotNumeric(['PrecipitationSumInches'], data).astype(int)\n",
        "#data['PrecipitationTrace'] = has_precipitation_trace_series\n",
        "#data.loc[:,'PrecipitationTrace'] = has_precipitation_trace_series\n",
        "data = data.assign(PrecipitationTrace=has_precipitation_trace_series.values)\n",
        "\n",
        "data['PrecipitationSumInches'] = data['PrecipitationSumInches'].apply(numberOrZero)\n",
        "data.iloc[0:10,:]"
      ],
      "metadata": {
        "colab": {
          "base_uri": "https://localhost:8080/",
          "height": 467
        },
        "id": "LalhKNZ9qLzC",
        "outputId": "9e7bc238-e150-4ce0-b67d-ea297eb98877"
      },
      "execution_count": 18,
      "outputs": [
        {
          "output_type": "stream",
          "name": "stderr",
          "text": [
            "/usr/local/lib/python3.7/dist-packages/ipykernel_launcher.py:9: SettingWithCopyWarning: \n",
            "A value is trying to be set on a copy of a slice from a DataFrame.\n",
            "Try using .loc[row_indexer,col_indexer] = value instead\n",
            "\n",
            "See the caveats in the documentation: https://pandas.pydata.org/pandas-docs/stable/user_guide/indexing.html#returning-a-view-versus-a-copy\n",
            "  if __name__ == '__main__':\n"
          ]
        },
        {
          "output_type": "execute_result",
          "data": {
            "text/html": [
              "\n",
              "  <div id=\"df-77c9991a-5ee5-4802-aa2e-8054510b2015\">\n",
              "    <div class=\"colab-df-container\">\n",
              "      <div>\n",
              "<style scoped>\n",
              "    .dataframe tbody tr th:only-of-type {\n",
              "        vertical-align: middle;\n",
              "    }\n",
              "\n",
              "    .dataframe tbody tr th {\n",
              "        vertical-align: top;\n",
              "    }\n",
              "\n",
              "    .dataframe thead th {\n",
              "        text-align: right;\n",
              "    }\n",
              "</style>\n",
              "<table border=\"1\" class=\"dataframe\">\n",
              "  <thead>\n",
              "    <tr style=\"text-align: right;\">\n",
              "      <th></th>\n",
              "      <th>TempAvgF</th>\n",
              "      <th>DewPointAvgF</th>\n",
              "      <th>HumidityAvgPercent</th>\n",
              "      <th>SeaLevelPressureAvgInches</th>\n",
              "      <th>VisibilityAvgMiles</th>\n",
              "      <th>WindAvgMPH</th>\n",
              "      <th>PrecipitationSumInches</th>\n",
              "      <th>PrecipitationTrace</th>\n",
              "    </tr>\n",
              "  </thead>\n",
              "  <tbody>\n",
              "    <tr>\n",
              "      <th>0</th>\n",
              "      <td>60</td>\n",
              "      <td>49</td>\n",
              "      <td>75</td>\n",
              "      <td>29.68</td>\n",
              "      <td>7</td>\n",
              "      <td>4</td>\n",
              "      <td>0.46</td>\n",
              "      <td>0</td>\n",
              "    </tr>\n",
              "    <tr>\n",
              "      <th>1</th>\n",
              "      <td>48</td>\n",
              "      <td>36</td>\n",
              "      <td>68</td>\n",
              "      <td>30.13</td>\n",
              "      <td>10</td>\n",
              "      <td>6</td>\n",
              "      <td>0.00</td>\n",
              "      <td>0</td>\n",
              "    </tr>\n",
              "    <tr>\n",
              "      <th>2</th>\n",
              "      <td>45</td>\n",
              "      <td>27</td>\n",
              "      <td>52</td>\n",
              "      <td>30.49</td>\n",
              "      <td>10</td>\n",
              "      <td>3</td>\n",
              "      <td>0.00</td>\n",
              "      <td>0</td>\n",
              "    </tr>\n",
              "    <tr>\n",
              "      <th>3</th>\n",
              "      <td>46</td>\n",
              "      <td>28</td>\n",
              "      <td>56</td>\n",
              "      <td>30.45</td>\n",
              "      <td>10</td>\n",
              "      <td>4</td>\n",
              "      <td>0.00</td>\n",
              "      <td>0</td>\n",
              "    </tr>\n",
              "    <tr>\n",
              "      <th>4</th>\n",
              "      <td>50</td>\n",
              "      <td>40</td>\n",
              "      <td>71</td>\n",
              "      <td>30.33</td>\n",
              "      <td>10</td>\n",
              "      <td>2</td>\n",
              "      <td>0.00</td>\n",
              "      <td>1</td>\n",
              "    </tr>\n",
              "    <tr>\n",
              "      <th>5</th>\n",
              "      <td>48</td>\n",
              "      <td>36</td>\n",
              "      <td>63</td>\n",
              "      <td>30.4</td>\n",
              "      <td>9</td>\n",
              "      <td>3</td>\n",
              "      <td>0.00</td>\n",
              "      <td>0</td>\n",
              "    </tr>\n",
              "    <tr>\n",
              "      <th>6</th>\n",
              "      <td>53</td>\n",
              "      <td>39</td>\n",
              "      <td>65</td>\n",
              "      <td>30.39</td>\n",
              "      <td>9</td>\n",
              "      <td>1</td>\n",
              "      <td>0.00</td>\n",
              "      <td>1</td>\n",
              "    </tr>\n",
              "    <tr>\n",
              "      <th>7</th>\n",
              "      <td>51</td>\n",
              "      <td>39</td>\n",
              "      <td>64</td>\n",
              "      <td>30.17</td>\n",
              "      <td>10</td>\n",
              "      <td>2</td>\n",
              "      <td>0.00</td>\n",
              "      <td>1</td>\n",
              "    </tr>\n",
              "    <tr>\n",
              "      <th>8</th>\n",
              "      <td>50</td>\n",
              "      <td>41</td>\n",
              "      <td>76</td>\n",
              "      <td>30.1</td>\n",
              "      <td>10</td>\n",
              "      <td>5</td>\n",
              "      <td>0.00</td>\n",
              "      <td>0</td>\n",
              "    </tr>\n",
              "    <tr>\n",
              "      <th>9</th>\n",
              "      <td>40</td>\n",
              "      <td>26</td>\n",
              "      <td>60</td>\n",
              "      <td>30.33</td>\n",
              "      <td>10</td>\n",
              "      <td>5</td>\n",
              "      <td>0.00</td>\n",
              "      <td>0</td>\n",
              "    </tr>\n",
              "  </tbody>\n",
              "</table>\n",
              "</div>\n",
              "      <button class=\"colab-df-convert\" onclick=\"convertToInteractive('df-77c9991a-5ee5-4802-aa2e-8054510b2015')\"\n",
              "              title=\"Convert this dataframe to an interactive table.\"\n",
              "              style=\"display:none;\">\n",
              "        \n",
              "  <svg xmlns=\"http://www.w3.org/2000/svg\" height=\"24px\"viewBox=\"0 0 24 24\"\n",
              "       width=\"24px\">\n",
              "    <path d=\"M0 0h24v24H0V0z\" fill=\"none\"/>\n",
              "    <path d=\"M18.56 5.44l.94 2.06.94-2.06 2.06-.94-2.06-.94-.94-2.06-.94 2.06-2.06.94zm-11 1L8.5 8.5l.94-2.06 2.06-.94-2.06-.94L8.5 2.5l-.94 2.06-2.06.94zm10 10l.94 2.06.94-2.06 2.06-.94-2.06-.94-.94-2.06-.94 2.06-2.06.94z\"/><path d=\"M17.41 7.96l-1.37-1.37c-.4-.4-.92-.59-1.43-.59-.52 0-1.04.2-1.43.59L10.3 9.45l-7.72 7.72c-.78.78-.78 2.05 0 2.83L4 21.41c.39.39.9.59 1.41.59.51 0 1.02-.2 1.41-.59l7.78-7.78 2.81-2.81c.8-.78.8-2.07 0-2.86zM5.41 20L4 18.59l7.72-7.72 1.47 1.35L5.41 20z\"/>\n",
              "  </svg>\n",
              "      </button>\n",
              "      \n",
              "  <style>\n",
              "    .colab-df-container {\n",
              "      display:flex;\n",
              "      flex-wrap:wrap;\n",
              "      gap: 12px;\n",
              "    }\n",
              "\n",
              "    .colab-df-convert {\n",
              "      background-color: #E8F0FE;\n",
              "      border: none;\n",
              "      border-radius: 50%;\n",
              "      cursor: pointer;\n",
              "      display: none;\n",
              "      fill: #1967D2;\n",
              "      height: 32px;\n",
              "      padding: 0 0 0 0;\n",
              "      width: 32px;\n",
              "    }\n",
              "\n",
              "    .colab-df-convert:hover {\n",
              "      background-color: #E2EBFA;\n",
              "      box-shadow: 0px 1px 2px rgba(60, 64, 67, 0.3), 0px 1px 3px 1px rgba(60, 64, 67, 0.15);\n",
              "      fill: #174EA6;\n",
              "    }\n",
              "\n",
              "    [theme=dark] .colab-df-convert {\n",
              "      background-color: #3B4455;\n",
              "      fill: #D2E3FC;\n",
              "    }\n",
              "\n",
              "    [theme=dark] .colab-df-convert:hover {\n",
              "      background-color: #434B5C;\n",
              "      box-shadow: 0px 1px 3px 1px rgba(0, 0, 0, 0.15);\n",
              "      filter: drop-shadow(0px 1px 2px rgba(0, 0, 0, 0.3));\n",
              "      fill: #FFFFFF;\n",
              "    }\n",
              "  </style>\n",
              "\n",
              "      <script>\n",
              "        const buttonEl =\n",
              "          document.querySelector('#df-77c9991a-5ee5-4802-aa2e-8054510b2015 button.colab-df-convert');\n",
              "        buttonEl.style.display =\n",
              "          google.colab.kernel.accessAllowed ? 'block' : 'none';\n",
              "\n",
              "        async function convertToInteractive(key) {\n",
              "          const element = document.querySelector('#df-77c9991a-5ee5-4802-aa2e-8054510b2015');\n",
              "          const dataTable =\n",
              "            await google.colab.kernel.invokeFunction('convertToInteractive',\n",
              "                                                     [key], {});\n",
              "          if (!dataTable) return;\n",
              "\n",
              "          const docLinkHtml = 'Like what you see? Visit the ' +\n",
              "            '<a target=\"_blank\" href=https://colab.research.google.com/notebooks/data_table.ipynb>data table notebook</a>'\n",
              "            + ' to learn more about interactive tables.';\n",
              "          element.innerHTML = '';\n",
              "          dataTable['output_type'] = 'display_data';\n",
              "          await google.colab.output.renderOutput(dataTable, element);\n",
              "          const docLink = document.createElement('div');\n",
              "          docLink.innerHTML = docLinkHtml;\n",
              "          element.appendChild(docLink);\n",
              "        }\n",
              "      </script>\n",
              "    </div>\n",
              "  </div>\n",
              "  "
            ],
            "text/plain": [
              "   TempAvgF DewPointAvgF  ... PrecipitationSumInches PrecipitationTrace\n",
              "0        60           49  ...                   0.46                  0\n",
              "1        48           36  ...                   0.00                  0\n",
              "2        45           27  ...                   0.00                  0\n",
              "3        46           28  ...                   0.00                  0\n",
              "4        50           40  ...                   0.00                  1\n",
              "5        48           36  ...                   0.00                  0\n",
              "6        53           39  ...                   0.00                  1\n",
              "7        51           39  ...                   0.00                  1\n",
              "8        50           41  ...                   0.00                  0\n",
              "9        40           26  ...                   0.00                  0\n",
              "\n",
              "[10 rows x 8 columns]"
            ]
          },
          "metadata": {},
          "execution_count": 18
        }
      ]
    },
    {
      "cell_type": "markdown",
      "source": [
        "Check how many non numeric rows we still have"
      ],
      "metadata": {
        "id": "0Zss0IeSqaEi"
      }
    },
    {
      "cell_type": "code",
      "source": [
        "getDataFrameWithNonNumericRows(data)"
      ],
      "metadata": {
        "colab": {
          "base_uri": "https://localhost:8080/",
          "height": 426
        },
        "id": "aD_u85vIqdii",
        "outputId": "82971d6a-11ef-41a7-a866-fd28d5b18574"
      },
      "execution_count": 19,
      "outputs": [
        {
          "output_type": "execute_result",
          "data": {
            "text/html": [
              "\n",
              "  <div id=\"df-71424212-2a8b-486f-93e9-61288a252ce8\">\n",
              "    <div class=\"colab-df-container\">\n",
              "      <div>\n",
              "<style scoped>\n",
              "    .dataframe tbody tr th:only-of-type {\n",
              "        vertical-align: middle;\n",
              "    }\n",
              "\n",
              "    .dataframe tbody tr th {\n",
              "        vertical-align: top;\n",
              "    }\n",
              "\n",
              "    .dataframe thead th {\n",
              "        text-align: right;\n",
              "    }\n",
              "</style>\n",
              "<table border=\"1\" class=\"dataframe\">\n",
              "  <thead>\n",
              "    <tr style=\"text-align: right;\">\n",
              "      <th></th>\n",
              "      <th>TempAvgF</th>\n",
              "      <th>DewPointAvgF</th>\n",
              "      <th>HumidityAvgPercent</th>\n",
              "      <th>SeaLevelPressureAvgInches</th>\n",
              "      <th>VisibilityAvgMiles</th>\n",
              "      <th>WindAvgMPH</th>\n",
              "      <th>PrecipitationSumInches</th>\n",
              "      <th>PrecipitationTrace</th>\n",
              "    </tr>\n",
              "  </thead>\n",
              "  <tbody>\n",
              "    <tr>\n",
              "      <th>174</th>\n",
              "      <td>79</td>\n",
              "      <td>-</td>\n",
              "      <td>75</td>\n",
              "      <td>29.95</td>\n",
              "      <td>-</td>\n",
              "      <td>4</td>\n",
              "      <td>0.0</td>\n",
              "      <td>0</td>\n",
              "    </tr>\n",
              "    <tr>\n",
              "      <th>175</th>\n",
              "      <td>92</td>\n",
              "      <td>-</td>\n",
              "      <td>77</td>\n",
              "      <td>29.93</td>\n",
              "      <td>-</td>\n",
              "      <td>6</td>\n",
              "      <td>0.0</td>\n",
              "      <td>0</td>\n",
              "    </tr>\n",
              "    <tr>\n",
              "      <th>176</th>\n",
              "      <td>83</td>\n",
              "      <td>-</td>\n",
              "      <td>-</td>\n",
              "      <td>29.9</td>\n",
              "      <td>-</td>\n",
              "      <td>9</td>\n",
              "      <td>0.0</td>\n",
              "      <td>0</td>\n",
              "    </tr>\n",
              "    <tr>\n",
              "      <th>177</th>\n",
              "      <td>84</td>\n",
              "      <td>-</td>\n",
              "      <td>72</td>\n",
              "      <td>29.99</td>\n",
              "      <td>-</td>\n",
              "      <td>8</td>\n",
              "      <td>0.0</td>\n",
              "      <td>1</td>\n",
              "    </tr>\n",
              "    <tr>\n",
              "      <th>596</th>\n",
              "      <td>89</td>\n",
              "      <td>-</td>\n",
              "      <td>65</td>\n",
              "      <td>-</td>\n",
              "      <td>-</td>\n",
              "      <td>-</td>\n",
              "      <td>0.0</td>\n",
              "      <td>0</td>\n",
              "    </tr>\n",
              "    <tr>\n",
              "      <th>597</th>\n",
              "      <td>90</td>\n",
              "      <td>-</td>\n",
              "      <td>62</td>\n",
              "      <td>-</td>\n",
              "      <td>-</td>\n",
              "      <td>6</td>\n",
              "      <td>0.0</td>\n",
              "      <td>0</td>\n",
              "    </tr>\n",
              "    <tr>\n",
              "      <th>598</th>\n",
              "      <td>90</td>\n",
              "      <td>-</td>\n",
              "      <td>-</td>\n",
              "      <td>-</td>\n",
              "      <td>-</td>\n",
              "      <td>-</td>\n",
              "      <td>0.0</td>\n",
              "      <td>0</td>\n",
              "    </tr>\n",
              "    <tr>\n",
              "      <th>638</th>\n",
              "      <td>82</td>\n",
              "      <td>63</td>\n",
              "      <td>60</td>\n",
              "      <td>29.96</td>\n",
              "      <td>-</td>\n",
              "      <td>3</td>\n",
              "      <td>0.0</td>\n",
              "      <td>0</td>\n",
              "    </tr>\n",
              "    <tr>\n",
              "      <th>639</th>\n",
              "      <td>84</td>\n",
              "      <td>64</td>\n",
              "      <td>57</td>\n",
              "      <td>29.95</td>\n",
              "      <td>-</td>\n",
              "      <td>4</td>\n",
              "      <td>0.0</td>\n",
              "      <td>0</td>\n",
              "    </tr>\n",
              "    <tr>\n",
              "      <th>741</th>\n",
              "      <td>46</td>\n",
              "      <td>33</td>\n",
              "      <td>60</td>\n",
              "      <td>30.48</td>\n",
              "      <td>-</td>\n",
              "      <td>8</td>\n",
              "      <td>0.0</td>\n",
              "      <td>1</td>\n",
              "    </tr>\n",
              "    <tr>\n",
              "      <th>742</th>\n",
              "      <td>45</td>\n",
              "      <td>34</td>\n",
              "      <td>77</td>\n",
              "      <td>30.42</td>\n",
              "      <td>-</td>\n",
              "      <td>2</td>\n",
              "      <td>0.2</td>\n",
              "      <td>0</td>\n",
              "    </tr>\n",
              "    <tr>\n",
              "      <th>953</th>\n",
              "      <td>88</td>\n",
              "      <td>73</td>\n",
              "      <td>66</td>\n",
              "      <td>29.97</td>\n",
              "      <td>-</td>\n",
              "      <td>6</td>\n",
              "      <td>0.0</td>\n",
              "      <td>0</td>\n",
              "    </tr>\n",
              "  </tbody>\n",
              "</table>\n",
              "</div>\n",
              "      <button class=\"colab-df-convert\" onclick=\"convertToInteractive('df-71424212-2a8b-486f-93e9-61288a252ce8')\"\n",
              "              title=\"Convert this dataframe to an interactive table.\"\n",
              "              style=\"display:none;\">\n",
              "        \n",
              "  <svg xmlns=\"http://www.w3.org/2000/svg\" height=\"24px\"viewBox=\"0 0 24 24\"\n",
              "       width=\"24px\">\n",
              "    <path d=\"M0 0h24v24H0V0z\" fill=\"none\"/>\n",
              "    <path d=\"M18.56 5.44l.94 2.06.94-2.06 2.06-.94-2.06-.94-.94-2.06-.94 2.06-2.06.94zm-11 1L8.5 8.5l.94-2.06 2.06-.94-2.06-.94L8.5 2.5l-.94 2.06-2.06.94zm10 10l.94 2.06.94-2.06 2.06-.94-2.06-.94-.94-2.06-.94 2.06-2.06.94z\"/><path d=\"M17.41 7.96l-1.37-1.37c-.4-.4-.92-.59-1.43-.59-.52 0-1.04.2-1.43.59L10.3 9.45l-7.72 7.72c-.78.78-.78 2.05 0 2.83L4 21.41c.39.39.9.59 1.41.59.51 0 1.02-.2 1.41-.59l7.78-7.78 2.81-2.81c.8-.78.8-2.07 0-2.86zM5.41 20L4 18.59l7.72-7.72 1.47 1.35L5.41 20z\"/>\n",
              "  </svg>\n",
              "      </button>\n",
              "      \n",
              "  <style>\n",
              "    .colab-df-container {\n",
              "      display:flex;\n",
              "      flex-wrap:wrap;\n",
              "      gap: 12px;\n",
              "    }\n",
              "\n",
              "    .colab-df-convert {\n",
              "      background-color: #E8F0FE;\n",
              "      border: none;\n",
              "      border-radius: 50%;\n",
              "      cursor: pointer;\n",
              "      display: none;\n",
              "      fill: #1967D2;\n",
              "      height: 32px;\n",
              "      padding: 0 0 0 0;\n",
              "      width: 32px;\n",
              "    }\n",
              "\n",
              "    .colab-df-convert:hover {\n",
              "      background-color: #E2EBFA;\n",
              "      box-shadow: 0px 1px 2px rgba(60, 64, 67, 0.3), 0px 1px 3px 1px rgba(60, 64, 67, 0.15);\n",
              "      fill: #174EA6;\n",
              "    }\n",
              "\n",
              "    [theme=dark] .colab-df-convert {\n",
              "      background-color: #3B4455;\n",
              "      fill: #D2E3FC;\n",
              "    }\n",
              "\n",
              "    [theme=dark] .colab-df-convert:hover {\n",
              "      background-color: #434B5C;\n",
              "      box-shadow: 0px 1px 3px 1px rgba(0, 0, 0, 0.15);\n",
              "      filter: drop-shadow(0px 1px 2px rgba(0, 0, 0, 0.3));\n",
              "      fill: #FFFFFF;\n",
              "    }\n",
              "  </style>\n",
              "\n",
              "      <script>\n",
              "        const buttonEl =\n",
              "          document.querySelector('#df-71424212-2a8b-486f-93e9-61288a252ce8 button.colab-df-convert');\n",
              "        buttonEl.style.display =\n",
              "          google.colab.kernel.accessAllowed ? 'block' : 'none';\n",
              "\n",
              "        async function convertToInteractive(key) {\n",
              "          const element = document.querySelector('#df-71424212-2a8b-486f-93e9-61288a252ce8');\n",
              "          const dataTable =\n",
              "            await google.colab.kernel.invokeFunction('convertToInteractive',\n",
              "                                                     [key], {});\n",
              "          if (!dataTable) return;\n",
              "\n",
              "          const docLinkHtml = 'Like what you see? Visit the ' +\n",
              "            '<a target=\"_blank\" href=https://colab.research.google.com/notebooks/data_table.ipynb>data table notebook</a>'\n",
              "            + ' to learn more about interactive tables.';\n",
              "          element.innerHTML = '';\n",
              "          dataTable['output_type'] = 'display_data';\n",
              "          await google.colab.output.renderOutput(dataTable, element);\n",
              "          const docLink = document.createElement('div');\n",
              "          docLink.innerHTML = docLinkHtml;\n",
              "          element.appendChild(docLink);\n",
              "        }\n",
              "      </script>\n",
              "    </div>\n",
              "  </div>\n",
              "  "
            ],
            "text/plain": [
              "     TempAvgF DewPointAvgF  ... PrecipitationSumInches PrecipitationTrace\n",
              "174        79            -  ...                    0.0                  0\n",
              "175        92            -  ...                    0.0                  0\n",
              "176        83            -  ...                    0.0                  0\n",
              "177        84            -  ...                    0.0                  1\n",
              "596        89            -  ...                    0.0                  0\n",
              "597        90            -  ...                    0.0                  0\n",
              "598        90            -  ...                    0.0                  0\n",
              "638        82           63  ...                    0.0                  0\n",
              "639        84           64  ...                    0.0                  0\n",
              "741        46           33  ...                    0.0                  1\n",
              "742        45           34  ...                    0.2                  0\n",
              "953        88           73  ...                    0.0                  0\n",
              "\n",
              "[12 rows x 8 columns]"
            ]
          },
          "metadata": {},
          "execution_count": 19
        }
      ]
    },
    {
      "cell_type": "markdown",
      "source": [
        "As there are not so many missing values, we can drop missing data.\n",
        "\n",
        "We need to get rows indices first to drop them as well in events table"
      ],
      "metadata": {
        "id": "AOZFGqHuqmVT"
      }
    },
    {
      "cell_type": "markdown",
      "source": [
        "Drop rows with missing values"
      ],
      "metadata": {
        "id": "iSnNI8Sdqu-M"
      }
    },
    {
      "cell_type": "code",
      "source": [
        "row_indices_for_missing_values = getDataFrameWithNonNumericRows(data).index.values\n",
        "row_indices_for_missing_values\n",
        "data_prepared = data.drop(row_indices_for_missing_values)\n",
        "events_prepared = single_events.drop(row_indices_for_missing_values)\n",
        "print(\"Data rows: {0}, Events rows: {1}\".format(data_prepared.shape[0], events_prepared.shape[0]))"
      ],
      "metadata": {
        "colab": {
          "base_uri": "https://localhost:8080/"
        },
        "id": "4WwA0Wemqwek",
        "outputId": "7151e9b8-78a8-4a14-d65b-b0d0911c87cf"
      },
      "execution_count": 20,
      "outputs": [
        {
          "output_type": "stream",
          "name": "stdout",
          "text": [
            "Data rows: 1307, Events rows: 1307\n"
          ]
        }
      ]
    },
    {
      "cell_type": "markdown",
      "source": [
        "Convert dataframe columns to be treated as numbers"
      ],
      "metadata": {
        "id": "Fd0xroMmq4tM"
      }
    },
    {
      "cell_type": "code",
      "source": [
        "data_prepared.dtypes"
      ],
      "metadata": {
        "colab": {
          "base_uri": "https://localhost:8080/"
        },
        "id": "_AIav8FWq6Fc",
        "outputId": "c0dd8eb0-71a8-42b0-a4fe-2a5a83544d0a"
      },
      "execution_count": 21,
      "outputs": [
        {
          "output_type": "execute_result",
          "data": {
            "text/plain": [
              "TempAvgF                       int64\n",
              "DewPointAvgF                  object\n",
              "HumidityAvgPercent            object\n",
              "SeaLevelPressureAvgInches     object\n",
              "VisibilityAvgMiles            object\n",
              "WindAvgMPH                    object\n",
              "PrecipitationSumInches       float64\n",
              "PrecipitationTrace             int64\n",
              "dtype: object"
            ]
          },
          "metadata": {},
          "execution_count": 21
        }
      ]
    },
    {
      "cell_type": "code",
      "source": [
        "data_prepared = data_prepared.apply(pd.to_numeric)\n",
        "data_prepared.dtypes"
      ],
      "metadata": {
        "colab": {
          "base_uri": "https://localhost:8080/"
        },
        "id": "jTWnVYyrrEM9",
        "outputId": "32845756-061e-4d0f-bfd5-b2e3fef0af3d"
      },
      "execution_count": 22,
      "outputs": [
        {
          "output_type": "execute_result",
          "data": {
            "text/plain": [
              "TempAvgF                       int64\n",
              "DewPointAvgF                   int64\n",
              "HumidityAvgPercent             int64\n",
              "SeaLevelPressureAvgInches    float64\n",
              "VisibilityAvgMiles             int64\n",
              "WindAvgMPH                     int64\n",
              "PrecipitationSumInches       float64\n",
              "PrecipitationTrace             int64\n",
              "dtype: object"
            ]
          },
          "metadata": {},
          "execution_count": 22
        }
      ]
    },
    {
      "cell_type": "markdown",
      "source": [
        "Final look at the prepared data"
      ],
      "metadata": {
        "id": "QIOZdOKOrRzG"
      }
    },
    {
      "cell_type": "code",
      "source": [
        "data_prepared.head()"
      ],
      "metadata": {
        "colab": {
          "base_uri": "https://localhost:8080/",
          "height": 206
        },
        "id": "kmzQz8wErWtP",
        "outputId": "eae76aca-84a8-4046-d98b-bfbb1a7693c9"
      },
      "execution_count": 23,
      "outputs": [
        {
          "output_type": "execute_result",
          "data": {
            "text/html": [
              "\n",
              "  <div id=\"df-4fdd300c-4d70-46ce-a0e2-8ca13461cc72\">\n",
              "    <div class=\"colab-df-container\">\n",
              "      <div>\n",
              "<style scoped>\n",
              "    .dataframe tbody tr th:only-of-type {\n",
              "        vertical-align: middle;\n",
              "    }\n",
              "\n",
              "    .dataframe tbody tr th {\n",
              "        vertical-align: top;\n",
              "    }\n",
              "\n",
              "    .dataframe thead th {\n",
              "        text-align: right;\n",
              "    }\n",
              "</style>\n",
              "<table border=\"1\" class=\"dataframe\">\n",
              "  <thead>\n",
              "    <tr style=\"text-align: right;\">\n",
              "      <th></th>\n",
              "      <th>TempAvgF</th>\n",
              "      <th>DewPointAvgF</th>\n",
              "      <th>HumidityAvgPercent</th>\n",
              "      <th>SeaLevelPressureAvgInches</th>\n",
              "      <th>VisibilityAvgMiles</th>\n",
              "      <th>WindAvgMPH</th>\n",
              "      <th>PrecipitationSumInches</th>\n",
              "      <th>PrecipitationTrace</th>\n",
              "    </tr>\n",
              "  </thead>\n",
              "  <tbody>\n",
              "    <tr>\n",
              "      <th>0</th>\n",
              "      <td>60</td>\n",
              "      <td>49</td>\n",
              "      <td>75</td>\n",
              "      <td>29.68</td>\n",
              "      <td>7</td>\n",
              "      <td>4</td>\n",
              "      <td>0.46</td>\n",
              "      <td>0</td>\n",
              "    </tr>\n",
              "    <tr>\n",
              "      <th>1</th>\n",
              "      <td>48</td>\n",
              "      <td>36</td>\n",
              "      <td>68</td>\n",
              "      <td>30.13</td>\n",
              "      <td>10</td>\n",
              "      <td>6</td>\n",
              "      <td>0.00</td>\n",
              "      <td>0</td>\n",
              "    </tr>\n",
              "    <tr>\n",
              "      <th>2</th>\n",
              "      <td>45</td>\n",
              "      <td>27</td>\n",
              "      <td>52</td>\n",
              "      <td>30.49</td>\n",
              "      <td>10</td>\n",
              "      <td>3</td>\n",
              "      <td>0.00</td>\n",
              "      <td>0</td>\n",
              "    </tr>\n",
              "    <tr>\n",
              "      <th>3</th>\n",
              "      <td>46</td>\n",
              "      <td>28</td>\n",
              "      <td>56</td>\n",
              "      <td>30.45</td>\n",
              "      <td>10</td>\n",
              "      <td>4</td>\n",
              "      <td>0.00</td>\n",
              "      <td>0</td>\n",
              "    </tr>\n",
              "    <tr>\n",
              "      <th>4</th>\n",
              "      <td>50</td>\n",
              "      <td>40</td>\n",
              "      <td>71</td>\n",
              "      <td>30.33</td>\n",
              "      <td>10</td>\n",
              "      <td>2</td>\n",
              "      <td>0.00</td>\n",
              "      <td>1</td>\n",
              "    </tr>\n",
              "  </tbody>\n",
              "</table>\n",
              "</div>\n",
              "      <button class=\"colab-df-convert\" onclick=\"convertToInteractive('df-4fdd300c-4d70-46ce-a0e2-8ca13461cc72')\"\n",
              "              title=\"Convert this dataframe to an interactive table.\"\n",
              "              style=\"display:none;\">\n",
              "        \n",
              "  <svg xmlns=\"http://www.w3.org/2000/svg\" height=\"24px\"viewBox=\"0 0 24 24\"\n",
              "       width=\"24px\">\n",
              "    <path d=\"M0 0h24v24H0V0z\" fill=\"none\"/>\n",
              "    <path d=\"M18.56 5.44l.94 2.06.94-2.06 2.06-.94-2.06-.94-.94-2.06-.94 2.06-2.06.94zm-11 1L8.5 8.5l.94-2.06 2.06-.94-2.06-.94L8.5 2.5l-.94 2.06-2.06.94zm10 10l.94 2.06.94-2.06 2.06-.94-2.06-.94-.94-2.06-.94 2.06-2.06.94z\"/><path d=\"M17.41 7.96l-1.37-1.37c-.4-.4-.92-.59-1.43-.59-.52 0-1.04.2-1.43.59L10.3 9.45l-7.72 7.72c-.78.78-.78 2.05 0 2.83L4 21.41c.39.39.9.59 1.41.59.51 0 1.02-.2 1.41-.59l7.78-7.78 2.81-2.81c.8-.78.8-2.07 0-2.86zM5.41 20L4 18.59l7.72-7.72 1.47 1.35L5.41 20z\"/>\n",
              "  </svg>\n",
              "      </button>\n",
              "      \n",
              "  <style>\n",
              "    .colab-df-container {\n",
              "      display:flex;\n",
              "      flex-wrap:wrap;\n",
              "      gap: 12px;\n",
              "    }\n",
              "\n",
              "    .colab-df-convert {\n",
              "      background-color: #E8F0FE;\n",
              "      border: none;\n",
              "      border-radius: 50%;\n",
              "      cursor: pointer;\n",
              "      display: none;\n",
              "      fill: #1967D2;\n",
              "      height: 32px;\n",
              "      padding: 0 0 0 0;\n",
              "      width: 32px;\n",
              "    }\n",
              "\n",
              "    .colab-df-convert:hover {\n",
              "      background-color: #E2EBFA;\n",
              "      box-shadow: 0px 1px 2px rgba(60, 64, 67, 0.3), 0px 1px 3px 1px rgba(60, 64, 67, 0.15);\n",
              "      fill: #174EA6;\n",
              "    }\n",
              "\n",
              "    [theme=dark] .colab-df-convert {\n",
              "      background-color: #3B4455;\n",
              "      fill: #D2E3FC;\n",
              "    }\n",
              "\n",
              "    [theme=dark] .colab-df-convert:hover {\n",
              "      background-color: #434B5C;\n",
              "      box-shadow: 0px 1px 3px 1px rgba(0, 0, 0, 0.15);\n",
              "      filter: drop-shadow(0px 1px 2px rgba(0, 0, 0, 0.3));\n",
              "      fill: #FFFFFF;\n",
              "    }\n",
              "  </style>\n",
              "\n",
              "      <script>\n",
              "        const buttonEl =\n",
              "          document.querySelector('#df-4fdd300c-4d70-46ce-a0e2-8ca13461cc72 button.colab-df-convert');\n",
              "        buttonEl.style.display =\n",
              "          google.colab.kernel.accessAllowed ? 'block' : 'none';\n",
              "\n",
              "        async function convertToInteractive(key) {\n",
              "          const element = document.querySelector('#df-4fdd300c-4d70-46ce-a0e2-8ca13461cc72');\n",
              "          const dataTable =\n",
              "            await google.colab.kernel.invokeFunction('convertToInteractive',\n",
              "                                                     [key], {});\n",
              "          if (!dataTable) return;\n",
              "\n",
              "          const docLinkHtml = 'Like what you see? Visit the ' +\n",
              "            '<a target=\"_blank\" href=https://colab.research.google.com/notebooks/data_table.ipynb>data table notebook</a>'\n",
              "            + ' to learn more about interactive tables.';\n",
              "          element.innerHTML = '';\n",
              "          dataTable['output_type'] = 'display_data';\n",
              "          await google.colab.output.renderOutput(dataTable, element);\n",
              "          const docLink = document.createElement('div');\n",
              "          docLink.innerHTML = docLinkHtml;\n",
              "          element.appendChild(docLink);\n",
              "        }\n",
              "      </script>\n",
              "    </div>\n",
              "  </div>\n",
              "  "
            ],
            "text/plain": [
              "   TempAvgF  DewPointAvgF  ...  PrecipitationSumInches  PrecipitationTrace\n",
              "0        60            49  ...                    0.46                   0\n",
              "1        48            36  ...                    0.00                   0\n",
              "2        45            27  ...                    0.00                   0\n",
              "3        46            28  ...                    0.00                   0\n",
              "4        50            40  ...                    0.00                   1\n",
              "\n",
              "[5 rows x 8 columns]"
            ]
          },
          "metadata": {},
          "execution_count": 23
        }
      ]
    },
    {
      "cell_type": "code",
      "source": [
        "events_prepared.head()"
      ],
      "metadata": {
        "colab": {
          "base_uri": "https://localhost:8080/",
          "height": 206
        },
        "id": "MpRdmAR6rw1X",
        "outputId": "b64cd375-e040-4fdc-8b97-80fb7020d45e"
      },
      "execution_count": 24,
      "outputs": [
        {
          "output_type": "execute_result",
          "data": {
            "text/html": [
              "\n",
              "  <div id=\"df-43e35d60-8a63-4872-8c41-cabbe3f6e1d7\">\n",
              "    <div class=\"colab-df-container\">\n",
              "      <div>\n",
              "<style scoped>\n",
              "    .dataframe tbody tr th:only-of-type {\n",
              "        vertical-align: middle;\n",
              "    }\n",
              "\n",
              "    .dataframe tbody tr th {\n",
              "        vertical-align: top;\n",
              "    }\n",
              "\n",
              "    .dataframe thead th {\n",
              "        text-align: right;\n",
              "    }\n",
              "</style>\n",
              "<table border=\"1\" class=\"dataframe\">\n",
              "  <thead>\n",
              "    <tr style=\"text-align: right;\">\n",
              "      <th></th>\n",
              "      <th>None</th>\n",
              "      <th>Thunderstorm</th>\n",
              "      <th>Snow</th>\n",
              "      <th>Rain</th>\n",
              "      <th>Fog</th>\n",
              "    </tr>\n",
              "  </thead>\n",
              "  <tbody>\n",
              "    <tr>\n",
              "      <th>0</th>\n",
              "      <td>False</td>\n",
              "      <td>True</td>\n",
              "      <td>False</td>\n",
              "      <td>True</td>\n",
              "      <td>False</td>\n",
              "    </tr>\n",
              "    <tr>\n",
              "      <th>1</th>\n",
              "      <td>True</td>\n",
              "      <td>False</td>\n",
              "      <td>False</td>\n",
              "      <td>False</td>\n",
              "      <td>False</td>\n",
              "    </tr>\n",
              "    <tr>\n",
              "      <th>2</th>\n",
              "      <td>True</td>\n",
              "      <td>False</td>\n",
              "      <td>False</td>\n",
              "      <td>False</td>\n",
              "      <td>False</td>\n",
              "    </tr>\n",
              "    <tr>\n",
              "      <th>3</th>\n",
              "      <td>True</td>\n",
              "      <td>False</td>\n",
              "      <td>False</td>\n",
              "      <td>False</td>\n",
              "      <td>False</td>\n",
              "    </tr>\n",
              "    <tr>\n",
              "      <th>4</th>\n",
              "      <td>True</td>\n",
              "      <td>False</td>\n",
              "      <td>False</td>\n",
              "      <td>False</td>\n",
              "      <td>False</td>\n",
              "    </tr>\n",
              "  </tbody>\n",
              "</table>\n",
              "</div>\n",
              "      <button class=\"colab-df-convert\" onclick=\"convertToInteractive('df-43e35d60-8a63-4872-8c41-cabbe3f6e1d7')\"\n",
              "              title=\"Convert this dataframe to an interactive table.\"\n",
              "              style=\"display:none;\">\n",
              "        \n",
              "  <svg xmlns=\"http://www.w3.org/2000/svg\" height=\"24px\"viewBox=\"0 0 24 24\"\n",
              "       width=\"24px\">\n",
              "    <path d=\"M0 0h24v24H0V0z\" fill=\"none\"/>\n",
              "    <path d=\"M18.56 5.44l.94 2.06.94-2.06 2.06-.94-2.06-.94-.94-2.06-.94 2.06-2.06.94zm-11 1L8.5 8.5l.94-2.06 2.06-.94-2.06-.94L8.5 2.5l-.94 2.06-2.06.94zm10 10l.94 2.06.94-2.06 2.06-.94-2.06-.94-.94-2.06-.94 2.06-2.06.94z\"/><path d=\"M17.41 7.96l-1.37-1.37c-.4-.4-.92-.59-1.43-.59-.52 0-1.04.2-1.43.59L10.3 9.45l-7.72 7.72c-.78.78-.78 2.05 0 2.83L4 21.41c.39.39.9.59 1.41.59.51 0 1.02-.2 1.41-.59l7.78-7.78 2.81-2.81c.8-.78.8-2.07 0-2.86zM5.41 20L4 18.59l7.72-7.72 1.47 1.35L5.41 20z\"/>\n",
              "  </svg>\n",
              "      </button>\n",
              "      \n",
              "  <style>\n",
              "    .colab-df-container {\n",
              "      display:flex;\n",
              "      flex-wrap:wrap;\n",
              "      gap: 12px;\n",
              "    }\n",
              "\n",
              "    .colab-df-convert {\n",
              "      background-color: #E8F0FE;\n",
              "      border: none;\n",
              "      border-radius: 50%;\n",
              "      cursor: pointer;\n",
              "      display: none;\n",
              "      fill: #1967D2;\n",
              "      height: 32px;\n",
              "      padding: 0 0 0 0;\n",
              "      width: 32px;\n",
              "    }\n",
              "\n",
              "    .colab-df-convert:hover {\n",
              "      background-color: #E2EBFA;\n",
              "      box-shadow: 0px 1px 2px rgba(60, 64, 67, 0.3), 0px 1px 3px 1px rgba(60, 64, 67, 0.15);\n",
              "      fill: #174EA6;\n",
              "    }\n",
              "\n",
              "    [theme=dark] .colab-df-convert {\n",
              "      background-color: #3B4455;\n",
              "      fill: #D2E3FC;\n",
              "    }\n",
              "\n",
              "    [theme=dark] .colab-df-convert:hover {\n",
              "      background-color: #434B5C;\n",
              "      box-shadow: 0px 1px 3px 1px rgba(0, 0, 0, 0.15);\n",
              "      filter: drop-shadow(0px 1px 2px rgba(0, 0, 0, 0.3));\n",
              "      fill: #FFFFFF;\n",
              "    }\n",
              "  </style>\n",
              "\n",
              "      <script>\n",
              "        const buttonEl =\n",
              "          document.querySelector('#df-43e35d60-8a63-4872-8c41-cabbe3f6e1d7 button.colab-df-convert');\n",
              "        buttonEl.style.display =\n",
              "          google.colab.kernel.accessAllowed ? 'block' : 'none';\n",
              "\n",
              "        async function convertToInteractive(key) {\n",
              "          const element = document.querySelector('#df-43e35d60-8a63-4872-8c41-cabbe3f6e1d7');\n",
              "          const dataTable =\n",
              "            await google.colab.kernel.invokeFunction('convertToInteractive',\n",
              "                                                     [key], {});\n",
              "          if (!dataTable) return;\n",
              "\n",
              "          const docLinkHtml = 'Like what you see? Visit the ' +\n",
              "            '<a target=\"_blank\" href=https://colab.research.google.com/notebooks/data_table.ipynb>data table notebook</a>'\n",
              "            + ' to learn more about interactive tables.';\n",
              "          element.innerHTML = '';\n",
              "          dataTable['output_type'] = 'display_data';\n",
              "          await google.colab.output.renderOutput(dataTable, element);\n",
              "          const docLink = document.createElement('div');\n",
              "          docLink.innerHTML = docLinkHtml;\n",
              "          element.appendChild(docLink);\n",
              "        }\n",
              "      </script>\n",
              "    </div>\n",
              "  </div>\n",
              "  "
            ],
            "text/plain": [
              "    None  Thunderstorm   Snow   Rain    Fog\n",
              "0  False          True  False   True  False\n",
              "1   True         False  False  False  False\n",
              "2   True         False  False  False  False\n",
              "3   True         False  False  False  False\n",
              "4   True         False  False  False  False"
            ]
          },
          "metadata": {},
          "execution_count": 24
        }
      ]
    },
    {
      "cell_type": "markdown",
      "source": [
        "Train the model"
      ],
      "metadata": {
        "id": "L4jk6Sywr_Dn"
      }
    },
    {
      "cell_type": "markdown",
      "source": [
        "Split the data into train and test sets"
      ],
      "metadata": {
        "id": "KdFzTCdhsC5v"
      }
    },
    {
      "cell_type": "code",
      "source": [
        "from sklearn.model_selection import train_test_split\n",
        "\n",
        "random_state = 42\n",
        "X_train, X_test = train_test_split(data_prepared, test_size=0.2, random_state=random_state)\n",
        "y_train, y_test = train_test_split(events_prepared, test_size=0.2, random_state=random_state)\n",
        "\n",
        "clusters_count = len(unique_events)"
      ],
      "metadata": {
        "id": "E9Vko4PCsNOg"
      },
      "execution_count": 25,
      "outputs": []
    },
    {
      "cell_type": "markdown",
      "source": [
        "Check if we can figure out events by discovering them using unsupervised learning techniques"
      ],
      "metadata": {
        "id": "JNUASJIAsSuI"
      }
    },
    {
      "cell_type": "code",
      "source": [
        ""
      ],
      "metadata": {
        "id": "nk9ng0NwsVEQ"
      },
      "execution_count": null,
      "outputs": []
    }
  ]
}